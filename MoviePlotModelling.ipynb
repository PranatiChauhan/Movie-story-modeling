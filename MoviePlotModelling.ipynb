{
 "cells": [
  {
   "attachments": {},
   "cell_type": "markdown",
   "metadata": {},
   "source": [
    "\n",
    "\n",
    "<ol>\n",
    "    <li><b>movie_story_student_file.csv</b>: This file contains the movie stories that should be used by students for model development.</li>\n",
    "    <li><b>movie_story_evaluation_file.csv</b>: This file should NOT be used for model development purposes. Students should only use this file after developing their predictive models and selecting their best final model. They then need to use their best predictive model and predict whether or not the movies in <b>movie story evaluation file.csv</b> are Drama.</li>\n",
    "    <li><b>movies.csv</b>: This file contain the movie genres.</li>\n",
    "</ol>"
   ]
  },
  {
   "cell_type": "markdown",
   "metadata": {},
   "source": [
    "### Output"
   ]
  },
  {
   "cell_type": "code",
   "execution_count": 1,
   "metadata": {},
   "outputs": [],
   "source": [
    "import pandas as pd\n",
    "import numpy as np"
   ]
  },
  {
   "cell_type": "markdown",
   "metadata": {},
   "source": [
    "## Step 1 - Data Cleaning and Preprocessing"
   ]
  },
  {
   "cell_type": "code",
   "execution_count": 2,
   "metadata": {},
   "outputs": [],
   "source": [
    "#Import the files given \n",
    "m_stu=pd.read_csv(\"movie_story_student_file.csv\")\n",
    "m_eval=pd.read_csv(\"movie_story_evaluation_file.csv\")\n",
    "movies=pd.read_csv(\"movies.csv\")"
   ]
  },
  {
   "cell_type": "code",
   "execution_count": 3,
   "metadata": {},
   "outputs": [
    {
     "name": "stdout",
     "output_type": "stream",
     "text": [
      "<class 'pandas.core.frame.DataFrame'>\n",
      "RangeIndex: 20000 entries, 0 to 19999\n",
      "Data columns (total 2 columns):\n",
      " #   Column    Non-Null Count  Dtype \n",
      "---  ------    --------------  ----- \n",
      " 0   movie_id  20000 non-null  int64 \n",
      " 1   story     20000 non-null  object\n",
      "dtypes: int64(1), object(1)\n",
      "memory usage: 312.6+ KB\n"
     ]
    }
   ],
   "source": [
    "m_stu.info()"
   ]
  },
  {
   "cell_type": "code",
   "execution_count": 4,
   "metadata": {
    "scrolled": true
   },
   "outputs": [
    {
     "name": "stdout",
     "output_type": "stream",
     "text": [
      "       movie_id                                              story  \\\n",
      "0        131072  A girl who always tends to fall in love with t...   \n",
      "1        196609  Bigfoot has come to the town of Ellwood City, ...   \n",
      "2        131074  At an altitude of 18,000 feet, Alaska\\'s Mount...   \n",
      "3        196611  In her first special since 2003, Ellen revisit...   \n",
      "4        196613  Mike and Sulley are back at Monsters Universit...   \n",
      "...         ...                                                ...   \n",
      "19995     56801  The iconic creatures from two of the scariest ...   \n",
      "19996    122337  When a bored-with-life English teacher meets a...   \n",
      "19997    187875  Herbert Blount is a crowdfunding contributor f...   \n",
      "19998    187873  REAL BOY is the coming-of-age story of Bennett...   \n",
      "19999     56805  Following a childhood tragedy, Dewey Cox follo...   \n",
      "\n",
      "                                  genres  \n",
      "0                                 Comedy  \n",
      "1                          Comedy|Horror  \n",
      "2                            Documentary  \n",
      "3                                 Comedy  \n",
      "4      Animation|Children|Comedy|Fantasy  \n",
      "...                                  ...  \n",
      "19995               Action|Horror|Sci-Fi  \n",
      "19996                      Drama|Romance  \n",
      "19997                             Horror  \n",
      "19998                        Documentary  \n",
      "19999                     Comedy|Musical  \n",
      "\n",
      "[20000 rows x 3 columns]\n"
     ]
    },
    {
     "data": {
      "text/plain": [
       "(20000, 3)"
      ]
     },
     "execution_count": 4,
     "metadata": {},
     "output_type": "execute_result"
    }
   ],
   "source": [
    "movies2=pd.merge(m_stu,movies,left_on='movie_id',right_on='movieId',how='inner').drop(['movieId','title'],axis=1)\n",
    "print(movies2) \n",
    "movies2.shape"
   ]
  },
  {
   "cell_type": "code",
   "execution_count": 5,
   "metadata": {},
   "outputs": [
    {
     "data": {
      "text/html": [
       "<div>\n",
       "<style scoped>\n",
       "    .dataframe tbody tr th:only-of-type {\n",
       "        vertical-align: middle;\n",
       "    }\n",
       "\n",
       "    .dataframe tbody tr th {\n",
       "        vertical-align: top;\n",
       "    }\n",
       "\n",
       "    .dataframe thead th {\n",
       "        text-align: right;\n",
       "    }\n",
       "</style>\n",
       "<table border=\"1\" class=\"dataframe\">\n",
       "  <thead>\n",
       "    <tr style=\"text-align: right;\">\n",
       "      <th></th>\n",
       "      <th>movie_id</th>\n",
       "      <th>story</th>\n",
       "      <th>genres</th>\n",
       "    </tr>\n",
       "  </thead>\n",
       "  <tbody>\n",
       "    <tr>\n",
       "      <th>0</th>\n",
       "      <td>131072</td>\n",
       "      <td>A girl who always tends to fall in love with t...</td>\n",
       "      <td>Comedy</td>\n",
       "    </tr>\n",
       "    <tr>\n",
       "      <th>1</th>\n",
       "      <td>196609</td>\n",
       "      <td>Bigfoot has come to the town of Ellwood City, ...</td>\n",
       "      <td>Comedy|Horror</td>\n",
       "    </tr>\n",
       "    <tr>\n",
       "      <th>2</th>\n",
       "      <td>131074</td>\n",
       "      <td>At an altitude of 18,000 feet, Alaska\\'s Mount...</td>\n",
       "      <td>Documentary</td>\n",
       "    </tr>\n",
       "    <tr>\n",
       "      <th>3</th>\n",
       "      <td>196611</td>\n",
       "      <td>In her first special since 2003, Ellen revisit...</td>\n",
       "      <td>Comedy</td>\n",
       "    </tr>\n",
       "    <tr>\n",
       "      <th>4</th>\n",
       "      <td>196613</td>\n",
       "      <td>Mike and Sulley are back at Monsters Universit...</td>\n",
       "      <td>Animation|Children|Comedy|Fantasy</td>\n",
       "    </tr>\n",
       "  </tbody>\n",
       "</table>\n",
       "</div>"
      ],
      "text/plain": [
       "   movie_id                                              story  \\\n",
       "0    131072  A girl who always tends to fall in love with t...   \n",
       "1    196609  Bigfoot has come to the town of Ellwood City, ...   \n",
       "2    131074  At an altitude of 18,000 feet, Alaska\\'s Mount...   \n",
       "3    196611  In her first special since 2003, Ellen revisit...   \n",
       "4    196613  Mike and Sulley are back at Monsters Universit...   \n",
       "\n",
       "                              genres  \n",
       "0                             Comedy  \n",
       "1                      Comedy|Horror  \n",
       "2                        Documentary  \n",
       "3                             Comedy  \n",
       "4  Animation|Children|Comedy|Fantasy  "
      ]
     },
     "execution_count": 5,
     "metadata": {},
     "output_type": "execute_result"
    }
   ],
   "source": [
    "#drop rows with no genres listed\n",
    "movies2 = movies2[movies2.genres != \"(no genres listed)\"]\n",
    "movies2 = movies2.dropna()\n",
    "movies2.head(50)\n",
    "\n",
    "movies2 = movies2[movies2.genres != \"(no genres listed)\"]\n",
    "movies2 = movies2.dropna()\n",
    "movies2.head()"
   ]
  },
  {
   "cell_type": "code",
   "execution_count": 6,
   "metadata": {},
   "outputs": [
    {
     "data": {
      "text/plain": [
       "(18886, 3)"
      ]
     },
     "execution_count": 6,
     "metadata": {},
     "output_type": "execute_result"
    }
   ],
   "source": [
    "movies2.shape"
   ]
  },
  {
   "cell_type": "code",
   "execution_count": 7,
   "metadata": {},
   "outputs": [],
   "source": [
    "#Use regex to clean the story column \n",
    "import re\n",
    "clean=[]\n",
    "for char in movies2['story']:\n",
    "    char = char.lower()  #Convert to lowercase\n",
    "    char.rstrip()\n",
    "    char.lstrip()\n",
    "    char = re.sub(' s ',' ',char)  #remove extra characters \n",
    "    char = re.sub(' +', ' ',char) #remove extra space\n",
    "    char = re.sub(r'[^\\w] ',' ',char)  #remove symbols\n",
    "    char = re.sub(r'[^\\w\\s]',' ',char) #remove symbols\n",
    "    char = re.sub(r'\\\\x..',' ',char) #remove HTML tags\n",
    "    char = re.sub(\"[^a-zA-Z]\",\" \",char) \n",
    "    clean.append(char)\n",
    "movies2['story']=clean"
   ]
  },
  {
   "cell_type": "code",
   "execution_count": 8,
   "metadata": {},
   "outputs": [
    {
     "data": {
      "text/plain": [
       "Drama                                        3044\n",
       "Documentary                                  2358\n",
       "Comedy                                       1690\n",
       "Comedy|Drama                                  892\n",
       "Drama|Romance                                 607\n",
       "                                             ... \n",
       "Romance|War                                     1\n",
       "Action|Animation|Mystery|IMAX                   1\n",
       "Action|Adventure|Children|Comedy|Fantasy        1\n",
       "Children|Comedy|Crime|Mystery                   1\n",
       "Action|Adventure|Crime|Drama|Thriller|War       1\n",
       "Name: genres, Length: 979, dtype: int64"
      ]
     },
     "execution_count": 8,
     "metadata": {},
     "output_type": "execute_result"
    }
   ],
   "source": [
    "movies2[\"genres\"].value_counts()\n"
   ]
  },
  {
   "cell_type": "code",
   "execution_count": 9,
   "metadata": {},
   "outputs": [],
   "source": [
    "#Convert movies with \"Drama\" genre to binary format\n",
    "#Add a new column - Drama Genre to identify movies with Drama genre\n",
    "movies2[\"DramaGenre\"] = np.where(movies2[\"genres\"].str.contains(\"Drama\"), 1, 0)"
   ]
  },
  {
   "cell_type": "markdown",
   "metadata": {},
   "source": [
    "## Step 2 - Create main_dataset"
   ]
  },
  {
   "cell_type": "code",
   "execution_count": 10,
   "metadata": {},
   "outputs": [
    {
     "data": {
      "text/html": [
       "<div>\n",
       "<style scoped>\n",
       "    .dataframe tbody tr th:only-of-type {\n",
       "        vertical-align: middle;\n",
       "    }\n",
       "\n",
       "    .dataframe tbody tr th {\n",
       "        vertical-align: top;\n",
       "    }\n",
       "\n",
       "    .dataframe thead th {\n",
       "        text-align: right;\n",
       "    }\n",
       "</style>\n",
       "<table border=\"1\" class=\"dataframe\">\n",
       "  <thead>\n",
       "    <tr style=\"text-align: right;\">\n",
       "      <th></th>\n",
       "      <th>movie_id</th>\n",
       "      <th>story</th>\n",
       "      <th>genres</th>\n",
       "      <th>DramaGenre</th>\n",
       "    </tr>\n",
       "  </thead>\n",
       "  <tbody>\n",
       "    <tr>\n",
       "      <th>0</th>\n",
       "      <td>131072</td>\n",
       "      <td>a girl who always tends to fall in love with t...</td>\n",
       "      <td>Comedy</td>\n",
       "      <td>0</td>\n",
       "    </tr>\n",
       "    <tr>\n",
       "      <th>1</th>\n",
       "      <td>196609</td>\n",
       "      <td>bigfoot has come to the town of ellwood city p...</td>\n",
       "      <td>Comedy|Horror</td>\n",
       "      <td>0</td>\n",
       "    </tr>\n",
       "    <tr>\n",
       "      <th>2</th>\n",
       "      <td>131074</td>\n",
       "      <td>at an altitude of        feet alaska  s mount ...</td>\n",
       "      <td>Documentary</td>\n",
       "      <td>0</td>\n",
       "    </tr>\n",
       "    <tr>\n",
       "      <th>3</th>\n",
       "      <td>196611</td>\n",
       "      <td>in her first special since      ellen revisits...</td>\n",
       "      <td>Comedy</td>\n",
       "      <td>0</td>\n",
       "    </tr>\n",
       "    <tr>\n",
       "      <th>4</th>\n",
       "      <td>196613</td>\n",
       "      <td>mike and sulley are back at monsters universit...</td>\n",
       "      <td>Animation|Children|Comedy|Fantasy</td>\n",
       "      <td>0</td>\n",
       "    </tr>\n",
       "    <tr>\n",
       "      <th>5</th>\n",
       "      <td>131080</td>\n",
       "      <td>when lady tremaine steals the fairy godmother ...</td>\n",
       "      <td>Animation|Children|Fantasy|Musical|Romance</td>\n",
       "      <td>0</td>\n",
       "    </tr>\n",
       "    <tr>\n",
       "      <th>6</th>\n",
       "      <td>131084</td>\n",
       "      <td>film that mixes live action and animation from...</td>\n",
       "      <td>Adventure|Comedy|Fantasy</td>\n",
       "      <td>0</td>\n",
       "    </tr>\n",
       "    <tr>\n",
       "      <th>7</th>\n",
       "      <td>196621</td>\n",
       "      <td>when a beautiful ballerina dancer adriana mena...</td>\n",
       "      <td>Horror</td>\n",
       "      <td>0</td>\n",
       "    </tr>\n",
       "    <tr>\n",
       "      <th>8</th>\n",
       "      <td>131090</td>\n",
       "      <td>jonas is    years old and has had to repeat se...</td>\n",
       "      <td>Comedy</td>\n",
       "      <td>0</td>\n",
       "    </tr>\n",
       "    <tr>\n",
       "      <th>9</th>\n",
       "      <td>196629</td>\n",
       "      <td>when ex soldier turned mercenary john gold lea...</td>\n",
       "      <td>Action</td>\n",
       "      <td>0</td>\n",
       "    </tr>\n",
       "    <tr>\n",
       "      <th>10</th>\n",
       "      <td>65558</td>\n",
       "      <td>the recruiter takes viewers to the louisiana c...</td>\n",
       "      <td>Documentary</td>\n",
       "      <td>0</td>\n",
       "    </tr>\n",
       "    <tr>\n",
       "      <th>11</th>\n",
       "      <td>196631</td>\n",
       "      <td>the tense marriage between two painters is sha...</td>\n",
       "      <td>Comedy|Drama|Romance</td>\n",
       "      <td>1</td>\n",
       "    </tr>\n",
       "    <tr>\n",
       "      <th>12</th>\n",
       "      <td>131098</td>\n",
       "      <td>a lowly stable elf finds that he is the only o...</td>\n",
       "      <td>Animation|Children|Comedy</td>\n",
       "      <td>0</td>\n",
       "    </tr>\n",
       "    <tr>\n",
       "      <th>13</th>\n",
       "      <td>131100</td>\n",
       "      <td>david sieveking left home years ago to make fi...</td>\n",
       "      <td>Documentary</td>\n",
       "      <td>0</td>\n",
       "    </tr>\n",
       "    <tr>\n",
       "      <th>14</th>\n",
       "      <td>196637</td>\n",
       "      <td>three estranged sisters deal with the death of...</td>\n",
       "      <td>Comedy|Drama</td>\n",
       "      <td>1</td>\n",
       "    </tr>\n",
       "    <tr>\n",
       "      <th>15</th>\n",
       "      <td>65567</td>\n",
       "      <td>after a plane crash a young therapist claire i...</td>\n",
       "      <td>Drama|Mystery|Thriller</td>\n",
       "      <td>1</td>\n",
       "    </tr>\n",
       "    <tr>\n",
       "      <th>16</th>\n",
       "      <td>196639</td>\n",
       "      <td>how do we cope with the unthinkable tuva novot...</td>\n",
       "      <td>Drama</td>\n",
       "      <td>1</td>\n",
       "    </tr>\n",
       "    <tr>\n",
       "      <th>18</th>\n",
       "      <td>131110</td>\n",
       "      <td>a documentary about the making of the movie  d...</td>\n",
       "      <td>Documentary</td>\n",
       "      <td>0</td>\n",
       "    </tr>\n",
       "    <tr>\n",
       "      <th>19</th>\n",
       "      <td>196647</td>\n",
       "      <td>in a country of     billion people and in a sp...</td>\n",
       "      <td>Documentary</td>\n",
       "      <td>0</td>\n",
       "    </tr>\n",
       "    <tr>\n",
       "      <th>20</th>\n",
       "      <td>65577</td>\n",
       "      <td>once upon a time   in the far away kingdom of ...</td>\n",
       "      <td>Adventure|Animation|Children|Comedy|Fantasy</td>\n",
       "      <td>0</td>\n",
       "    </tr>\n",
       "    <tr>\n",
       "      <th>21</th>\n",
       "      <td>131116</td>\n",
       "      <td>a married father of three lives in cr xc  xa t...</td>\n",
       "      <td>Comedy</td>\n",
       "      <td>0</td>\n",
       "    </tr>\n",
       "    <tr>\n",
       "      <th>22</th>\n",
       "      <td>131118</td>\n",
       "      <td>the tale of siegfried a fearless dragon slayer...</td>\n",
       "      <td>Comedy</td>\n",
       "      <td>0</td>\n",
       "    </tr>\n",
       "    <tr>\n",
       "      <th>23</th>\n",
       "      <td>196655</td>\n",
       "      <td>malachi martin an irish priest who dedicated h...</td>\n",
       "      <td>Documentary|Horror|Mystery</td>\n",
       "      <td>0</td>\n",
       "    </tr>\n",
       "    <tr>\n",
       "      <th>24</th>\n",
       "      <td>65585</td>\n",
       "      <td>two best friends become rivals when their resp...</td>\n",
       "      <td>Comedy|Romance</td>\n",
       "      <td>0</td>\n",
       "    </tr>\n",
       "    <tr>\n",
       "      <th>25</th>\n",
       "      <td>131122</td>\n",
       "      <td>love exposure explores the very roots of femal...</td>\n",
       "      <td>Action|Comedy|Drama|Romance</td>\n",
       "      <td>1</td>\n",
       "    </tr>\n",
       "    <tr>\n",
       "      <th>26</th>\n",
       "      <td>196659</td>\n",
       "      <td>in a post apocalyptic society seventeen year o...</td>\n",
       "      <td>Horror|Sci-Fi</td>\n",
       "      <td>0</td>\n",
       "    </tr>\n",
       "    <tr>\n",
       "      <th>27</th>\n",
       "      <td>65588</td>\n",
       "      <td>all lodge wants is for his gaming group to fin...</td>\n",
       "      <td>Action|Adventure|Comedy|Fantasy</td>\n",
       "      <td>0</td>\n",
       "    </tr>\n",
       "    <tr>\n",
       "      <th>28</th>\n",
       "      <td>131126</td>\n",
       "      <td>the  rd movie by the comedian duo erkan and st...</td>\n",
       "      <td>Comedy</td>\n",
       "      <td>0</td>\n",
       "    </tr>\n",
       "    <tr>\n",
       "      <th>29</th>\n",
       "      <td>196665</td>\n",
       "      <td>while driving at night on a mountain road elle...</td>\n",
       "      <td>Horror</td>\n",
       "      <td>0</td>\n",
       "    </tr>\n",
       "    <tr>\n",
       "      <th>30</th>\n",
       "      <td>131130</td>\n",
       "      <td>a holiday themed animated direct to video film...</td>\n",
       "      <td>Animation|Comedy</td>\n",
       "      <td>0</td>\n",
       "    </tr>\n",
       "    <tr>\n",
       "      <th>31</th>\n",
       "      <td>196667</td>\n",
       "      <td>amy begins her first night shift in a hotel wi...</td>\n",
       "      <td>Horror</td>\n",
       "      <td>0</td>\n",
       "    </tr>\n",
       "    <tr>\n",
       "      <th>32</th>\n",
       "      <td>65596</td>\n",
       "      <td>jacques mesrine a loyal son and dedicated sold...</td>\n",
       "      <td>Action|Crime|Drama|Thriller</td>\n",
       "      <td>1</td>\n",
       "    </tr>\n",
       "    <tr>\n",
       "      <th>33</th>\n",
       "      <td>65601</td>\n",
       "      <td>ten years ago a tragedy changed the town of ha...</td>\n",
       "      <td>Horror|Thriller</td>\n",
       "      <td>0</td>\n",
       "    </tr>\n",
       "    <tr>\n",
       "      <th>34</th>\n",
       "      <td>131138</td>\n",
       "      <td>hitler no longer believes in himself and can b...</td>\n",
       "      <td>Comedy|Drama|War</td>\n",
       "      <td>1</td>\n",
       "    </tr>\n",
       "    <tr>\n",
       "      <th>36</th>\n",
       "      <td>131140</td>\n",
       "      <td>frank and simone have fulfilled a dream and li...</td>\n",
       "      <td>Drama</td>\n",
       "      <td>1</td>\n",
       "    </tr>\n",
       "    <tr>\n",
       "      <th>37</th>\n",
       "      <td>196679</td>\n",
       "      <td>a naked teenage boy covered in blood appears a...</td>\n",
       "      <td>Horror</td>\n",
       "      <td>0</td>\n",
       "    </tr>\n",
       "    <tr>\n",
       "      <th>38</th>\n",
       "      <td>196681</td>\n",
       "      <td>after a major crisis a man attempts to track d...</td>\n",
       "      <td>Comedy|Drama|Romance</td>\n",
       "      <td>1</td>\n",
       "    </tr>\n",
       "    <tr>\n",
       "      <th>39</th>\n",
       "      <td>131148</td>\n",
       "      <td>what a man is a comedy that tells the story of...</td>\n",
       "      <td>Comedy|Romance</td>\n",
       "      <td>0</td>\n",
       "    </tr>\n",
       "    <tr>\n",
       "      <th>40</th>\n",
       "      <td>65621</td>\n",
       "      <td>liberty kid is a      low budget american film...</td>\n",
       "      <td>Drama</td>\n",
       "      <td>1</td>\n",
       "    </tr>\n",
       "    <tr>\n",
       "      <th>41</th>\n",
       "      <td>196693</td>\n",
       "      <td>a hunt for a lost sheep turns into a competiti...</td>\n",
       "      <td>Adventure|Animation|Children|Comedy|Fantasy</td>\n",
       "      <td>0</td>\n",
       "    </tr>\n",
       "    <tr>\n",
       "      <th>42</th>\n",
       "      <td>196695</td>\n",
       "      <td>when an awkward date on christmas eve leads a ...</td>\n",
       "      <td>Horror</td>\n",
       "      <td>0</td>\n",
       "    </tr>\n",
       "    <tr>\n",
       "      <th>43</th>\n",
       "      <td>131160</td>\n",
       "      <td>listening in to a conversation between his doc...</td>\n",
       "      <td>Drama</td>\n",
       "      <td>1</td>\n",
       "    </tr>\n",
       "    <tr>\n",
       "      <th>44</th>\n",
       "      <td>131162</td>\n",
       "      <td>a girl a boy a love story but also about dream...</td>\n",
       "      <td>Drama|Romance</td>\n",
       "      <td>1</td>\n",
       "    </tr>\n",
       "    <tr>\n",
       "      <th>45</th>\n",
       "      <td>131164</td>\n",
       "      <td>vietnam in hd is a   part series that immerses...</td>\n",
       "      <td>War</td>\n",
       "      <td>0</td>\n",
       "    </tr>\n",
       "    <tr>\n",
       "      <th>46</th>\n",
       "      <td>196701</td>\n",
       "      <td>having failed to get into the police force mar...</td>\n",
       "      <td>Action</td>\n",
       "      <td>0</td>\n",
       "    </tr>\n",
       "    <tr>\n",
       "      <th>47</th>\n",
       "      <td>131166</td>\n",
       "      <td>follow the lives of soldiers who lived wold wa...</td>\n",
       "      <td>Documentary|War</td>\n",
       "      <td>0</td>\n",
       "    </tr>\n",
       "    <tr>\n",
       "      <th>48</th>\n",
       "      <td>65631</td>\n",
       "      <td>thousands of activists arrive in seattle washi...</td>\n",
       "      <td>Action|Drama</td>\n",
       "      <td>1</td>\n",
       "    </tr>\n",
       "    <tr>\n",
       "      <th>49</th>\n",
       "      <td>131168</td>\n",
       "      <td>a disfigured concentration camp survivor unrec...</td>\n",
       "      <td>Drama</td>\n",
       "      <td>1</td>\n",
       "    </tr>\n",
       "    <tr>\n",
       "      <th>50</th>\n",
       "      <td>65633</td>\n",
       "      <td>fuel is the story of a young man  s struggle t...</td>\n",
       "      <td>Documentary</td>\n",
       "      <td>0</td>\n",
       "    </tr>\n",
       "    <tr>\n",
       "      <th>51</th>\n",
       "      <td>131170</td>\n",
       "      <td>an underground mma fighter must confront his s...</td>\n",
       "      <td>Sci-Fi|Thriller</td>\n",
       "      <td>0</td>\n",
       "    </tr>\n",
       "  </tbody>\n",
       "</table>\n",
       "</div>"
      ],
      "text/plain": [
       "    movie_id                                              story  \\\n",
       "0     131072  a girl who always tends to fall in love with t...   \n",
       "1     196609  bigfoot has come to the town of ellwood city p...   \n",
       "2     131074  at an altitude of        feet alaska  s mount ...   \n",
       "3     196611  in her first special since      ellen revisits...   \n",
       "4     196613  mike and sulley are back at monsters universit...   \n",
       "5     131080  when lady tremaine steals the fairy godmother ...   \n",
       "6     131084  film that mixes live action and animation from...   \n",
       "7     196621  when a beautiful ballerina dancer adriana mena...   \n",
       "8     131090  jonas is    years old and has had to repeat se...   \n",
       "9     196629  when ex soldier turned mercenary john gold lea...   \n",
       "10     65558  the recruiter takes viewers to the louisiana c...   \n",
       "11    196631  the tense marriage between two painters is sha...   \n",
       "12    131098  a lowly stable elf finds that he is the only o...   \n",
       "13    131100  david sieveking left home years ago to make fi...   \n",
       "14    196637  three estranged sisters deal with the death of...   \n",
       "15     65567  after a plane crash a young therapist claire i...   \n",
       "16    196639  how do we cope with the unthinkable tuva novot...   \n",
       "18    131110  a documentary about the making of the movie  d...   \n",
       "19    196647  in a country of     billion people and in a sp...   \n",
       "20     65577  once upon a time   in the far away kingdom of ...   \n",
       "21    131116  a married father of three lives in cr xc  xa t...   \n",
       "22    131118  the tale of siegfried a fearless dragon slayer...   \n",
       "23    196655  malachi martin an irish priest who dedicated h...   \n",
       "24     65585  two best friends become rivals when their resp...   \n",
       "25    131122  love exposure explores the very roots of femal...   \n",
       "26    196659  in a post apocalyptic society seventeen year o...   \n",
       "27     65588  all lodge wants is for his gaming group to fin...   \n",
       "28    131126  the  rd movie by the comedian duo erkan and st...   \n",
       "29    196665  while driving at night on a mountain road elle...   \n",
       "30    131130  a holiday themed animated direct to video film...   \n",
       "31    196667  amy begins her first night shift in a hotel wi...   \n",
       "32     65596  jacques mesrine a loyal son and dedicated sold...   \n",
       "33     65601  ten years ago a tragedy changed the town of ha...   \n",
       "34    131138  hitler no longer believes in himself and can b...   \n",
       "36    131140  frank and simone have fulfilled a dream and li...   \n",
       "37    196679  a naked teenage boy covered in blood appears a...   \n",
       "38    196681  after a major crisis a man attempts to track d...   \n",
       "39    131148  what a man is a comedy that tells the story of...   \n",
       "40     65621  liberty kid is a      low budget american film...   \n",
       "41    196693  a hunt for a lost sheep turns into a competiti...   \n",
       "42    196695  when an awkward date on christmas eve leads a ...   \n",
       "43    131160  listening in to a conversation between his doc...   \n",
       "44    131162  a girl a boy a love story but also about dream...   \n",
       "45    131164  vietnam in hd is a   part series that immerses...   \n",
       "46    196701  having failed to get into the police force mar...   \n",
       "47    131166  follow the lives of soldiers who lived wold wa...   \n",
       "48     65631  thousands of activists arrive in seattle washi...   \n",
       "49    131168  a disfigured concentration camp survivor unrec...   \n",
       "50     65633  fuel is the story of a young man  s struggle t...   \n",
       "51    131170  an underground mma fighter must confront his s...   \n",
       "\n",
       "                                         genres  DramaGenre  \n",
       "0                                        Comedy           0  \n",
       "1                                 Comedy|Horror           0  \n",
       "2                                   Documentary           0  \n",
       "3                                        Comedy           0  \n",
       "4             Animation|Children|Comedy|Fantasy           0  \n",
       "5    Animation|Children|Fantasy|Musical|Romance           0  \n",
       "6                      Adventure|Comedy|Fantasy           0  \n",
       "7                                        Horror           0  \n",
       "8                                        Comedy           0  \n",
       "9                                        Action           0  \n",
       "10                                  Documentary           0  \n",
       "11                         Comedy|Drama|Romance           1  \n",
       "12                    Animation|Children|Comedy           0  \n",
       "13                                  Documentary           0  \n",
       "14                                 Comedy|Drama           1  \n",
       "15                       Drama|Mystery|Thriller           1  \n",
       "16                                        Drama           1  \n",
       "18                                  Documentary           0  \n",
       "19                                  Documentary           0  \n",
       "20  Adventure|Animation|Children|Comedy|Fantasy           0  \n",
       "21                                       Comedy           0  \n",
       "22                                       Comedy           0  \n",
       "23                   Documentary|Horror|Mystery           0  \n",
       "24                               Comedy|Romance           0  \n",
       "25                  Action|Comedy|Drama|Romance           1  \n",
       "26                                Horror|Sci-Fi           0  \n",
       "27              Action|Adventure|Comedy|Fantasy           0  \n",
       "28                                       Comedy           0  \n",
       "29                                       Horror           0  \n",
       "30                             Animation|Comedy           0  \n",
       "31                                       Horror           0  \n",
       "32                  Action|Crime|Drama|Thriller           1  \n",
       "33                              Horror|Thriller           0  \n",
       "34                             Comedy|Drama|War           1  \n",
       "36                                        Drama           1  \n",
       "37                                       Horror           0  \n",
       "38                         Comedy|Drama|Romance           1  \n",
       "39                               Comedy|Romance           0  \n",
       "40                                        Drama           1  \n",
       "41  Adventure|Animation|Children|Comedy|Fantasy           0  \n",
       "42                                       Horror           0  \n",
       "43                                        Drama           1  \n",
       "44                                Drama|Romance           1  \n",
       "45                                          War           0  \n",
       "46                                       Action           0  \n",
       "47                              Documentary|War           0  \n",
       "48                                 Action|Drama           1  \n",
       "49                                        Drama           1  \n",
       "50                                  Documentary           0  \n",
       "51                              Sci-Fi|Thriller           0  "
      ]
     },
     "execution_count": 10,
     "metadata": {},
     "output_type": "execute_result"
    }
   ],
   "source": [
    "#Create main_dataset\n",
    "main_dataset_test = movies2\n",
    "main_dataset_test.head(50)"
   ]
  },
  {
   "cell_type": "code",
   "execution_count": 11,
   "metadata": {},
   "outputs": [],
   "source": [
    "#Drop the genres column \n",
    "main_dataset = main_dataset_test.drop('genres', axis=1)"
   ]
  },
  {
   "cell_type": "code",
   "execution_count": 12,
   "metadata": {},
   "outputs": [
    {
     "data": {
      "text/html": [
       "<div>\n",
       "<style scoped>\n",
       "    .dataframe tbody tr th:only-of-type {\n",
       "        vertical-align: middle;\n",
       "    }\n",
       "\n",
       "    .dataframe tbody tr th {\n",
       "        vertical-align: top;\n",
       "    }\n",
       "\n",
       "    .dataframe thead th {\n",
       "        text-align: right;\n",
       "    }\n",
       "</style>\n",
       "<table border=\"1\" class=\"dataframe\">\n",
       "  <thead>\n",
       "    <tr style=\"text-align: right;\">\n",
       "      <th></th>\n",
       "      <th>movie_id</th>\n",
       "      <th>story</th>\n",
       "      <th>DramaGenre</th>\n",
       "    </tr>\n",
       "  </thead>\n",
       "  <tbody>\n",
       "    <tr>\n",
       "      <th>0</th>\n",
       "      <td>131072</td>\n",
       "      <td>a girl who always tends to fall in love with t...</td>\n",
       "      <td>0</td>\n",
       "    </tr>\n",
       "    <tr>\n",
       "      <th>1</th>\n",
       "      <td>196609</td>\n",
       "      <td>bigfoot has come to the town of ellwood city p...</td>\n",
       "      <td>0</td>\n",
       "    </tr>\n",
       "    <tr>\n",
       "      <th>2</th>\n",
       "      <td>131074</td>\n",
       "      <td>at an altitude of        feet alaska  s mount ...</td>\n",
       "      <td>0</td>\n",
       "    </tr>\n",
       "    <tr>\n",
       "      <th>3</th>\n",
       "      <td>196611</td>\n",
       "      <td>in her first special since      ellen revisits...</td>\n",
       "      <td>0</td>\n",
       "    </tr>\n",
       "    <tr>\n",
       "      <th>4</th>\n",
       "      <td>196613</td>\n",
       "      <td>mike and sulley are back at monsters universit...</td>\n",
       "      <td>0</td>\n",
       "    </tr>\n",
       "    <tr>\n",
       "      <th>...</th>\n",
       "      <td>...</td>\n",
       "      <td>...</td>\n",
       "      <td>...</td>\n",
       "    </tr>\n",
       "    <tr>\n",
       "      <th>19995</th>\n",
       "      <td>56801</td>\n",
       "      <td>the iconic creatures from two of the scariest ...</td>\n",
       "      <td>0</td>\n",
       "    </tr>\n",
       "    <tr>\n",
       "      <th>19996</th>\n",
       "      <td>122337</td>\n",
       "      <td>when a bored with life english teacher meets a...</td>\n",
       "      <td>1</td>\n",
       "    </tr>\n",
       "    <tr>\n",
       "      <th>19997</th>\n",
       "      <td>187875</td>\n",
       "      <td>herbert blount is a crowdfunding contributor f...</td>\n",
       "      <td>0</td>\n",
       "    </tr>\n",
       "    <tr>\n",
       "      <th>19998</th>\n",
       "      <td>187873</td>\n",
       "      <td>real boy is the coming of age story of bennett...</td>\n",
       "      <td>0</td>\n",
       "    </tr>\n",
       "    <tr>\n",
       "      <th>19999</th>\n",
       "      <td>56805</td>\n",
       "      <td>following a childhood tragedy dewey cox follow...</td>\n",
       "      <td>0</td>\n",
       "    </tr>\n",
       "  </tbody>\n",
       "</table>\n",
       "<p>18886 rows × 3 columns</p>\n",
       "</div>"
      ],
      "text/plain": [
       "       movie_id                                              story  DramaGenre\n",
       "0        131072  a girl who always tends to fall in love with t...           0\n",
       "1        196609  bigfoot has come to the town of ellwood city p...           0\n",
       "2        131074  at an altitude of        feet alaska  s mount ...           0\n",
       "3        196611  in her first special since      ellen revisits...           0\n",
       "4        196613  mike and sulley are back at monsters universit...           0\n",
       "...         ...                                                ...         ...\n",
       "19995     56801  the iconic creatures from two of the scariest ...           0\n",
       "19996    122337  when a bored with life english teacher meets a...           1\n",
       "19997    187875  herbert blount is a crowdfunding contributor f...           0\n",
       "19998    187873  real boy is the coming of age story of bennett...           0\n",
       "19999     56805  following a childhood tragedy dewey cox follow...           0\n",
       "\n",
       "[18886 rows x 3 columns]"
      ]
     },
     "execution_count": 12,
     "metadata": {},
     "output_type": "execute_result"
    }
   ],
   "source": [
    "main_dataset"
   ]
  },
  {
   "cell_type": "code",
   "execution_count": 13,
   "metadata": {},
   "outputs": [
    {
     "data": {
      "text/plain": [
       "(18886, 3)"
      ]
     },
     "execution_count": 13,
     "metadata": {},
     "output_type": "execute_result"
    }
   ],
   "source": [
    "main_dataset.shape"
   ]
  },
  {
   "cell_type": "code",
   "execution_count": 14,
   "metadata": {},
   "outputs": [],
   "source": [
    "#Save data to csv\n",
    "main_dataset.to_csv('main_dataset.csv', index=False)"
   ]
  },
  {
   "cell_type": "markdown",
   "metadata": {},
   "source": [
    "# Text Analysis"
   ]
  },
  {
   "cell_type": "markdown",
   "metadata": {},
   "source": [
    "Install packages"
   ]
  },
  {
   "cell_type": "code",
   "execution_count": 15,
   "metadata": {},
   "outputs": [
    {
     "name": "stdout",
     "output_type": "stream",
     "text": [
      "Requirement already satisfied: wordcloud in c:\\users\\lenovo\\anaconda3\\lib\\site-packages (1.8.2.2)\n",
      "Requirement already satisfied: pillow in c:\\users\\lenovo\\anaconda3\\lib\\site-packages (from wordcloud) (8.2.0)\n",
      "Requirement already satisfied: matplotlib in c:\\users\\lenovo\\anaconda3\\lib\\site-packages (from wordcloud) (3.3.4)\n",
      "Requirement already satisfied: numpy>=1.6.1 in c:\\users\\lenovo\\anaconda3\\lib\\site-packages (from wordcloud) (1.20.1)\n",
      "Requirement already satisfied: kiwisolver>=1.0.1 in c:\\users\\lenovo\\anaconda3\\lib\\site-packages (from matplotlib->wordcloud) (1.3.1)\n",
      "Requirement already satisfied: python-dateutil>=2.1 in c:\\users\\lenovo\\anaconda3\\lib\\site-packages (from matplotlib->wordcloud) (2.8.1)\n",
      "Requirement already satisfied: cycler>=0.10 in c:\\users\\lenovo\\anaconda3\\lib\\site-packages (from matplotlib->wordcloud) (0.10.0)\n",
      "Requirement already satisfied: pyparsing!=2.0.4,!=2.1.2,!=2.1.6,>=2.0.3 in c:\\users\\lenovo\\anaconda3\\lib\\site-packages (from matplotlib->wordcloud) (2.4.7)\n",
      "Requirement already satisfied: six in c:\\users\\lenovo\\anaconda3\\lib\\site-packages (from cycler>=0.10->matplotlib->wordcloud) (1.15.0)\n",
      "Requirement already satisfied: nltk in c:\\users\\lenovo\\anaconda3\\lib\\site-packages (3.6.1)\n",
      "Requirement already satisfied: regex in c:\\users\\lenovo\\anaconda3\\lib\\site-packages (from nltk) (2021.4.4)\n",
      "Requirement already satisfied: joblib in c:\\users\\lenovo\\anaconda3\\lib\\site-packages (from nltk) (1.0.1)\n",
      "Requirement already satisfied: tqdm in c:\\users\\lenovo\\anaconda3\\lib\\site-packages (from nltk) (4.59.0)\n",
      "Requirement already satisfied: click in c:\\users\\lenovo\\anaconda3\\lib\\site-packages (from nltk) (7.1.2)\n"
     ]
    }
   ],
   "source": [
    "!pip install wordcloud\n",
    "!pip install nltk\n",
    "\n",
    "#nltk.download() # Loads another window, best to download all packages\n",
    "import sys\n",
    "#!conda install --yes --prefix \"{sys.prefix}\" spacy \n",
    "#!python -m spacy download en_core_web_sm"
   ]
  },
  {
   "cell_type": "code",
   "execution_count": 15,
   "metadata": {},
   "outputs": [
    {
     "name": "stderr",
     "output_type": "stream",
     "text": [
      "[nltk_data] Downloading package stopwords to\n",
      "[nltk_data]     /Users/pranatichauhan/nltk_data...\n",
      "[nltk_data]   Package stopwords is already up-to-date!\n"
     ]
    }
   ],
   "source": [
    "from nltk.corpus import stopwords\n",
    "import nltk\n",
    "nltk.download('stopwords')\n",
    "from nltk.stem import PorterStemmer\n",
    "from nltk.stem import WordNetLemmatizer"
   ]
  },
  {
   "cell_type": "code",
   "execution_count": 17,
   "metadata": {},
   "outputs": [
    {
     "name": "stdout",
     "output_type": "stream",
     "text": [
      "Collecting package metadata (current_repodata.json): ...working... done\n",
      "Solving environment: ...working... done\n",
      "\n",
      "# All requested packages already installed.\n",
      "\n",
      "Retrieving notices: ...working... done\n"
     ]
    }
   ],
   "source": [
    "!conda install --yes --prefix \"{sys.prefix}\" spacy \n"
   ]
  },
  {
   "cell_type": "code",
   "execution_count": null,
   "metadata": {},
   "outputs": [],
   "source": [
    "from os import path\n",
    "from PIL import Image\n",
    "from wordcloud import WordCloud, ImageColorGenerator\n",
    "from sklearn.feature_extraction.text import CountVectorizer \n",
    "import spacy\n",
    "#load spacy's English-language models\n",
    "en_nlp = spacy.load('en_core_web_sm')\n",
    "\n",
    "import matplotlib.pyplot as plt\n",
    "%matplotlib inline"
   ]
  },
  {
   "cell_type": "code",
   "execution_count": 2,
   "metadata": {},
   "outputs": [],
   "source": [
    "import pandas as pd"
   ]
  },
  {
   "cell_type": "code",
   "execution_count": 3,
   "metadata": {},
   "outputs": [],
   "source": [
    "main_dataset = pd.read_csv(\"main_dataset.csv\")"
   ]
  },
  {
   "cell_type": "code",
   "execution_count": 20,
   "metadata": {},
   "outputs": [
    {
     "name": "stdout",
     "output_type": "stream",
     "text": [
      "There are 5958567 words in the combination of all review.\n"
     ]
    },
    {
     "data": {
      "image/png": "[encoded data removed]",
      "text/plain": [
       "<Figure size 432x288 with 1 Axes>"
      ]
     },
     "metadata": {
      "needs_background": "light"
     },
     "output_type": "display_data"
    }
   ],
   "source": [
    "# word cloud of entire dataset without any tokenization\n",
    "word = main_dataset.story\n",
    "vect = CountVectorizer()\n",
    "vect.fit(word)\n",
    "bag_of_words = vect.transform(word)\n",
    "\n",
    "words = \" \".join(story for story in main_dataset.story)\n",
    "print (\"There are {} words in the combination of all review.\".format(len(words)))\n",
    "# remove stop words\n",
    "from wordcloud import STOPWORDS\n",
    "stopwords = set(STOPWORDS)\n",
    "wordcloud = WordCloud(stopwords=stopwords)\n",
    "wordcloud.generate(words)\n",
    "plt.imshow(wordcloud, interpolation='bilinear')\n",
    "plt.axis(\"off\");"
   ]
  },
  {
   "cell_type": "markdown",
   "metadata": {},
   "source": [
    "# Text and Feature Reduction\n",
    "# Will use logicistic regression as a Baseline to see if what is better:\n",
    "Bag of words, N-Grams, TF-IDF, Lemmatization, or a combo of steps"
   ]
  },
  {
   "cell_type": "code",
   "execution_count": 21,
   "metadata": {},
   "outputs": [
    {
     "data": {
      "text/plain": [
       "{0, 1}"
      ]
     },
     "execution_count": 21,
     "metadata": {},
     "output_type": "execute_result"
    }
   ],
   "source": [
    "text, y = main_dataset.story, main_dataset.DramaGenre\n",
    "\n",
    "set(y)"
   ]
  },
  {
   "cell_type": "markdown",
   "metadata": {},
   "source": [
    "# Unigram Bag of words"
   ]
  },
  {
   "cell_type": "code",
   "execution_count": 22,
   "metadata": {},
   "outputs": [
    {
     "data": {
      "text/plain": [
       "(18886, 44751)"
      ]
     },
     "execution_count": 22,
     "metadata": {},
     "output_type": "execute_result"
    }
   ],
   "source": [
    "# we already created a bag of words a couple of lines above we will just reassign the variable\n",
    "X = bag_of_words\n",
    "X.shape"
   ]
  },
  {
   "cell_type": "code",
   "execution_count": 23,
   "metadata": {},
   "outputs": [
    {
     "data": {
      "text/plain": [
       "67.98"
      ]
     },
     "execution_count": 23,
     "metadata": {},
     "output_type": "execute_result"
    }
   ],
   "source": [
    "# baseline logicistal regression 67.97%\n",
    "from sklearn.linear_model import LogisticRegression\n",
    "from sklearn.model_selection import train_test_split\n",
    "from sklearn.metrics import accuracy_score\n",
    "\n",
    "\n",
    "model = LogisticRegression(max_iter=500)\n",
    "X_train, X_test, y_train, y_test = train_test_split(X, y, test_size=0.3, \n",
    "                                                    random_state=0)\n",
    "model.fit(X_train, y_train)\n",
    "y_test_hat = model.predict(X_test)\n",
    "round(accuracy_score(y_test,y_test_hat) * 100,2)"
   ]
  },
  {
   "cell_type": "markdown",
   "metadata": {},
   "source": [
    "# Using N-Grams"
   ]
  },
  {
   "cell_type": "code",
   "execution_count": 24,
   "metadata": {},
   "outputs": [
    {
     "name": "stdout",
     "output_type": "stream",
     "text": [
      "The number of features are: 466810\n"
     ]
    },
    {
     "data": {
      "text/plain": [
       "70.01"
      ]
     },
     "execution_count": 24,
     "metadata": {},
     "output_type": "execute_result"
    }
   ],
   "source": [
    "\n",
    "vect = CountVectorizer(ngram_range=(1,2), stop_words=\"english\").fit(text) \n",
    "X = vect.transform(text)\n",
    "print(\"The number of features are: {}\".format(len(vect.get_feature_names_out())))\n",
    "\n",
    "model = LogisticRegression(max_iter=500)\n",
    "X_train, X_test, y_train, y_test = train_test_split(X, y, test_size=0.3, \n",
    "                                                    random_state=0)\n",
    "model.fit(X_train, y_train)\n",
    "y_test_hat = model.predict(X_test)\n",
    "round(accuracy_score(y_test,y_test_hat) * 100,2)\n",
    "# about a 1.5% increase"
   ]
  },
  {
   "cell_type": "code",
   "execution_count": 25,
   "metadata": {},
   "outputs": [
    {
     "name": "stdout",
     "output_type": "stream",
     "text": [
      "The number of features are: 963827\n"
     ]
    },
    {
     "data": {
      "text/plain": [
       "70.14"
      ]
     },
     "execution_count": 25,
     "metadata": {},
     "output_type": "execute_result"
    }
   ],
   "source": [
    "vect = CountVectorizer(ngram_range=(1,3), stop_words=\"english\").fit(text) \n",
    "X = vect.transform(text)\n",
    "print(\"The number of features are: {}\".format(len(vect.get_feature_names_out())))\n",
    "\n",
    "model = LogisticRegression(max_iter=500)\n",
    "X_train, X_test, y_train, y_test = train_test_split(X, y, test_size=0.3, \n",
    "                                                    random_state=0)\n",
    "model.fit(X_train, y_train)\n",
    "y_test_hat = model.predict(X_test)\n",
    "round(accuracy_score(y_test,y_test_hat) * 100,2)\n",
    "# about a half of percent increase to bigrams"
   ]
  },
  {
   "cell_type": "code",
   "execution_count": 26,
   "metadata": {},
   "outputs": [
    {
     "name": "stdout",
     "output_type": "stream",
     "text": [
      "The number of features are: 1450945\n"
     ]
    },
    {
     "data": {
      "text/plain": [
       "70.37"
      ]
     },
     "execution_count": 26,
     "metadata": {},
     "output_type": "execute_result"
    }
   ],
   "source": [
    "vect = CountVectorizer(ngram_range=(1,4), stop_words=\"english\").fit(text) \n",
    "X = vect.transform(text)\n",
    "print(\"The number of features are: {}\".format(len(vect.get_feature_names_out())))\n",
    "\n",
    "model = LogisticRegression(max_iter=500)\n",
    "X_train, X_test, y_train, y_test = train_test_split(X, y, test_size=0.3, \n",
    "                                                    random_state=0)\n",
    "model.fit(X_train, y_train)\n",
    "y_test_hat = model.predict(X_test)\n",
    "round(accuracy_score(y_test,y_test_hat) * 100,2)\n",
    "# same as triplets"
   ]
  },
  {
   "cell_type": "code",
   "execution_count": 27,
   "metadata": {},
   "outputs": [
    {
     "name": "stdout",
     "output_type": "stream",
     "text": [
      "The number of features are: 1920340\n"
     ]
    },
    {
     "data": {
      "text/plain": [
       "70.19"
      ]
     },
     "execution_count": 27,
     "metadata": {},
     "output_type": "execute_result"
    }
   ],
   "source": [
    "vect = CountVectorizer(ngram_range=(1,5), stop_words=\"english\").fit(text) \n",
    "X = vect.transform(text)\n",
    "print(\"The number of features are: {}\".format(len(vect.get_feature_names_out())))\n",
    "\n",
    "model = LogisticRegression(max_iter=500)\n",
    "X_train, X_test, y_train, y_test = train_test_split(X, y, test_size=0.3, \n",
    "                                                    random_state=0)\n",
    "model.fit(X_train, y_train)\n",
    "y_test_hat = model.predict(X_test)\n",
    "round(accuracy_score(y_test,y_test_hat) * 100,2)\n",
    "# marginal decrease"
   ]
  },
  {
   "cell_type": "markdown",
   "metadata": {},
   "source": [
    "Higher ngram the higher amount of features, we probably will only run triplets "
   ]
  },
  {
   "cell_type": "markdown",
   "metadata": {},
   "source": [
    "# TF–IDF"
   ]
  },
  {
   "cell_type": "code",
   "execution_count": 28,
   "metadata": {},
   "outputs": [
    {
     "name": "stdout",
     "output_type": "stream",
     "text": [
      "The number of features are: 44451\n"
     ]
    },
    {
     "data": {
      "text/plain": [
       "70.42"
      ]
     },
     "execution_count": 28,
     "metadata": {},
     "output_type": "execute_result"
    }
   ],
   "source": [
    "from sklearn.feature_extraction.text import TfidfVectorizer\n",
    "vect = TfidfVectorizer(stop_words=\"english\").fit(text) \n",
    "X = vect.fit_transform(text)\n",
    "print(\"The number of features are: {}\".format(len(vect.get_feature_names_out())))\n",
    "\n",
    "model = LogisticRegression(max_iter=500)\n",
    "X_train, X_test, y_train, y_test = train_test_split(X, y, test_size=0.3, \n",
    "                                                    random_state=0)\n",
    "model.fit(X_train, y_train)\n",
    "y_test_hat = model.predict(X_test)\n",
    "round(accuracy_score(y_test,y_test_hat) * 100,2)\n",
    "# much lower features and with a better accuracy score, best so far"
   ]
  },
  {
   "cell_type": "code",
   "execution_count": 29,
   "metadata": {},
   "outputs": [
    {
     "name": "stdout",
     "output_type": "stream",
     "text": [
      "The number of features are: 963827\n"
     ]
    },
    {
     "data": {
      "text/plain": [
       "68.2"
      ]
     },
     "execution_count": 29,
     "metadata": {},
     "output_type": "execute_result"
    }
   ],
   "source": [
    "# to be thorough lets add triplet n-grams but this seem counterintuitive since we are added features back\n",
    "text, y = main_dataset.story, main_dataset.DramaGenre\n",
    "\n",
    "set(y)\n",
    "\n",
    "vect = TfidfVectorizer(ngram_range=(1,3), stop_words=\"english\").fit(text) \n",
    "X = vect.fit_transform(text)\n",
    "print(\"The number of features are: {}\".format(len(vect.get_feature_names_out())))\n",
    "\n",
    "model = LogisticRegression(max_iter=500)\n",
    "X_train, X_test, y_train, y_test = train_test_split(X, y, test_size=0.3, \n",
    "                                                    random_state=0)\n",
    "model.fit(X_train, y_train)\n",
    "y_test_hat = model.predict(X_test)\n",
    "round(accuracy_score(y_test,y_test_hat) * 100,2)\n",
    "# Large increase in features and a lower score"
   ]
  },
  {
   "cell_type": "markdown",
   "metadata": {},
   "source": [
    "# Tokenization"
   ]
  },
  {
   "cell_type": "code",
   "execution_count": 30,
   "metadata": {},
   "outputs": [
    {
     "data": {
      "text/plain": [
       "{0, 1}"
      ]
     },
     "execution_count": 30,
     "metadata": {},
     "output_type": "execute_result"
    }
   ],
   "source": [
    "from nltk.stem import WordNetLemmatizer\n",
    "lemmatizer = WordNetLemmatizer()\n",
    "def lemmatize_words(text):\n",
    "    words = text.split()\n",
    "    words = [lemmatizer.lemmatize(word,pos='v') for word in words]\n",
    "    return ' '.join(words)\n",
    "main_dataset['story'] = main_dataset['story'].apply(lemmatize_words)\n",
    "\n",
    "text, y = main_dataset.story, main_dataset.DramaGenre\n",
    "\n",
    "set(y)"
   ]
  },
  {
   "cell_type": "code",
   "execution_count": 31,
   "metadata": {},
   "outputs": [
    {
     "name": "stdout",
     "output_type": "stream",
     "text": [
      "The number of features are: 38158\n"
     ]
    },
    {
     "data": {
      "text/plain": [
       "67.45"
      ]
     },
     "execution_count": 31,
     "metadata": {},
     "output_type": "execute_result"
    }
   ],
   "source": [
    "\n",
    "vect = CountVectorizer(stop_words=\"english\").fit(text) \n",
    "X = vect.fit_transform(text)\n",
    "print(\"The number of features are: {}\".format(len(vect.get_feature_names_out())))\n",
    "\n",
    "model = LogisticRegression(max_iter=500)\n",
    "X_train, X_test, y_train, y_test = train_test_split(X, y, test_size=0.3, \n",
    "                                                    random_state=0)\n",
    "model.fit(X_train, y_train)\n",
    "y_test_hat = model.predict(X_test)\n",
    "round(accuracy_score(y_test,y_test_hat) * 100,2)\n",
    "# lower features than TF-IDF but accuracy is a lower lets try triplet n-grams next"
   ]
  },
  {
   "cell_type": "code",
   "execution_count": 32,
   "metadata": {},
   "outputs": [
    {
     "name": "stdout",
     "output_type": "stream",
     "text": [
      "The number of features are: 921032\n"
     ]
    },
    {
     "data": {
      "text/plain": [
       "69.96"
      ]
     },
     "execution_count": 32,
     "metadata": {},
     "output_type": "execute_result"
    }
   ],
   "source": [
    "\n",
    "vect = CountVectorizer(ngram_range=(1,3),stop_words=\"english\").fit(text) \n",
    "X = vect.fit_transform(text)\n",
    "print(\"The number of features are: {}\".format(len(vect.get_feature_names_out())))\n",
    "\n",
    "model = LogisticRegression(max_iter=500)\n",
    "X_train, X_test, y_train, y_test = train_test_split(X, y, test_size=0.3, \n",
    "                                                    random_state=0)\n",
    "model.fit(X_train, y_train)\n",
    "y_test_hat = model.predict(X_test)\n",
    "round(accuracy_score(y_test,y_test_hat) * 100,2)\n",
    "# we see an increase but TF-IDF is still better"
   ]
  },
  {
   "cell_type": "code",
   "execution_count": 33,
   "metadata": {},
   "outputs": [
    {
     "name": "stdout",
     "output_type": "stream",
     "text": [
      "The number of features are: 38158\n"
     ]
    },
    {
     "data": {
      "text/plain": [
       "70.03"
      ]
     },
     "execution_count": 33,
     "metadata": {},
     "output_type": "execute_result"
    }
   ],
   "source": [
    "vect = TfidfVectorizer(stop_words=\"english\").fit(text) \n",
    "X = vect.fit_transform(text)\n",
    "print(\"The number of features are: {}\".format(len(vect.get_feature_names_out())))\n",
    "\n",
    "model = LogisticRegression(max_iter=500)\n",
    "X_train, X_test, y_train, y_test = train_test_split(X, y, test_size=0.3, \n",
    "                                                    random_state=0)\n",
    "model.fit(X_train, y_train)\n",
    "y_test_hat = model.predict(X_test)\n",
    "round(accuracy_score(y_test,y_test_hat) * 100,2)\n",
    "# better but TF-IDF is still better"
   ]
  },
  {
   "cell_type": "markdown",
   "metadata": {},
   "source": [
    "# Best analysis of X is to use TF-IDF stand alone"
   ]
  },
  {
   "cell_type": "code",
   "execution_count": 34,
   "metadata": {},
   "outputs": [
    {
     "data": {
      "text/plain": [
       "{0, 1}"
      ]
     },
     "execution_count": 34,
     "metadata": {},
     "output_type": "execute_result"
    }
   ],
   "source": [
    "text, y = main_dataset.story, main_dataset.DramaGenre\n",
    "\n",
    "set(y)"
   ]
  },
  {
   "cell_type": "code",
   "execution_count": 35,
   "metadata": {},
   "outputs": [
    {
     "name": "stdout",
     "output_type": "stream",
     "text": [
      "The number of features are: 38158\n"
     ]
    }
   ],
   "source": [
    "vect = TfidfVectorizer(stop_words=\"english\").fit(text) \n",
    "X = vect.fit_transform(text)\n",
    "print(\"The number of features are: {}\".format(len(vect.get_feature_names_out())))\n",
    "# In theory we should be able to use this X to split every other model off of"
   ]
  },
  {
   "cell_type": "markdown",
   "metadata": {},
   "source": [
    "# Logistic Regression"
   ]
  },
  {
   "cell_type": "code",
   "execution_count": 36,
   "metadata": {},
   "outputs": [],
   "source": [
    "y = main_dataset['DramaGenre']"
   ]
  },
  {
   "cell_type": "code",
   "execution_count": 37,
   "metadata": {},
   "outputs": [],
   "source": [
    "from sklearn.linear_model import LogisticRegression\n",
    "from sklearn.metrics import accuracy_score, classification_report, auc\n",
    "from sklearn.model_selection import cross_val_score\n",
    "from sklearn.metrics import confusion_matrix"
   ]
  },
  {
   "cell_type": "code",
   "execution_count": 38,
   "metadata": {},
   "outputs": [
    {
     "name": "stdout",
     "output_type": "stream",
     "text": [
      "Logistic Regression Accuracy - Training Set:  0.69\n",
      "----------------------------------\n",
      "Classification Report - Logistic Regression\n",
      "              precision    recall  f1-score   support\n",
      "\n",
      "           0       0.73      0.71      0.72      2095\n",
      "           1       0.65      0.67      0.66      1683\n",
      "\n",
      "    accuracy                           0.69      3778\n",
      "   macro avg       0.69      0.69      0.69      3778\n",
      "weighted avg       0.69      0.69      0.69      3778\n",
      "\n"
     ]
    }
   ],
   "source": [
    "model_LG = LogisticRegression(max_iter=2500, class_weight='balanced')\n",
    "X_train, X_test, y_train, y_test = train_test_split(X, y, test_size=0.2, random_state=0, stratify=y)\n",
    "model_LG.fit(X_train, y_train)\n",
    "y_test_hat_LG = model_LG.predict(X_test)\n",
    "acc_LG = accuracy_score(y_test, y_test_hat_LG)\n",
    "\n",
    "print(\"Logistic Regression Accuracy - Training Set: \", acc_LG.round(2))\n",
    "print('----------------------------------')\n",
    "print(\"Classification Report - Logistic Regression\")\n",
    "print(classification_report(y_test, y_test_hat_LG))"
   ]
  },
  {
   "cell_type": "markdown",
   "metadata": {},
   "source": [
    "# Multinomial Naive Bayes"
   ]
  },
  {
   "cell_type": "code",
   "execution_count": 39,
   "metadata": {},
   "outputs": [
    {
     "name": "stdout",
     "output_type": "stream",
     "text": [
      "Multinomial Naive Bayes Accuracy - Training Set:  0.67\n",
      "----------------------------------\n",
      "Classification Report - Multinomial Naive Bayes\n",
      "              precision    recall  f1-score   support\n",
      "\n",
      "           0       0.66      0.87      0.75      2095\n",
      "           1       0.72      0.43      0.54      1683\n",
      "\n",
      "    accuracy                           0.67      3778\n",
      "   macro avg       0.69      0.65      0.64      3778\n",
      "weighted avg       0.69      0.67      0.66      3778\n",
      "\n"
     ]
    }
   ],
   "source": [
    "from sklearn.naive_bayes import MultinomialNB\n",
    "\n",
    "model_NB= MultinomialNB()\n",
    "X_train, X_test, y_train, y_test = train_test_split(X, y, test_size=0.2, random_state=0, stratify=y)\n",
    "model_NB.fit(X_train, y_train)\n",
    "y_test_hat_NB = model_NB.predict(X_test)\n",
    "acc_NB = accuracy_score(y_test, y_test_hat_NB)\n",
    "\n",
    "print(\"Multinomial Naive Bayes Accuracy - Training Set: \", acc_NB.round(2))\n",
    "print('----------------------------------')\n",
    "print(\"Classification Report - Multinomial Naive Bayes\")\n",
    "print(classification_report(y_test, y_test_hat_NB))\n"
   ]
  },
  {
   "cell_type": "markdown",
   "metadata": {},
   "source": [
    "# KNN Classifier"
   ]
  },
  {
   "cell_type": "code",
   "execution_count": 40,
   "metadata": {},
   "outputs": [],
   "source": [
    "from sklearn.neighbors import KNeighborsClassifier\n",
    "from sklearn.metrics import precision_score\n",
    "\n",
    "accuracyRate = []\n",
    "precisionRate = []\n",
    "i = 1\n",
    "while i <= 10:\n",
    "  knnModel = KNeighborsClassifier(i)\n",
    "  knnModel.fit(X_train, y_train)\n",
    "  knnPredict = knnModel.predict(X_test)\n",
    "  accuracyScore = accuracy_score(y_test, knnPredict)*100\n",
    "  precisionScore = precision_score(y_test, knnPredict, average='macro') * 100\n",
    "  accuracyRate.append(accuracyScore)\n",
    "  precisionRate.append(precisionScore)\n",
    "  i += 1"
   ]
  },
  {
   "cell_type": "code",
   "execution_count": 41,
   "metadata": {},
   "outputs": [
    {
     "data": {
      "image/png": "[encoded data removed]",
      "text/plain": [
       "<Figure size 720x720 with 1 Axes>"
      ]
     },
     "metadata": {
      "needs_background": "light"
     },
     "output_type": "display_data"
    }
   ],
   "source": [
    "# accuracy score for different number nieghbors (up to 10 nieghbors)\n",
    "plt.figure(figsize=(10,10))\n",
    "plt.plot(range(1,11),accuracyRate,marker='^',markerfacecolor='blue',linestyle='solid')\n",
    "plt.ylabel('Accuracy')\n",
    "plt.xlabel('K-Neighbor')\n",
    "plt.grid()\n",
    "plt.show()"
   ]
  },
  {
   "cell_type": "code",
   "execution_count": 42,
   "metadata": {},
   "outputs": [
    {
     "name": "stdout",
     "output_type": "stream",
     "text": [
      "K-Neighbors Accuracy - Training Set:  0.63\n",
      "----------------------------------\n",
      "Classification Report - K-Neighbors\n",
      "              precision    recall  f1-score   support\n",
      "\n",
      "           0       0.66      0.70      0.68      2120\n",
      "           1       0.58      0.54      0.56      1658\n",
      "\n",
      "    accuracy                           0.63      3778\n",
      "   macro avg       0.62      0.62      0.62      3778\n",
      "weighted avg       0.63      0.63      0.63      3778\n",
      "\n"
     ]
    }
   ],
   "source": [
    "#As per graph above, 9 neighbors have highest accuracy\n",
    "model_Knn = KNeighborsClassifier(9)\n",
    "X_train, X_test, y_train, y_test = train_test_split(X, y, test_size=0.2, random_state=0)\n",
    "model_Knn.fit(X_train,y_train)\n",
    "y_test_hat_Knn = model_Knn.predict(X_test)\n",
    "acc_Knn = accuracy_score(y_test, y_test_hat_Knn)\n",
    "\n",
    "print(\"K-Neighbors Accuracy - Training Set: \", acc_Knn.round(2))\n",
    "print('----------------------------------')\n",
    "print(\"Classification Report - K-Neighbors\")\n",
    "print(classification_report(y_test, y_test_hat_Knn))\n",
    "\n",
    "#So far logistic has highest accuracy"
   ]
  },
  {
   "cell_type": "markdown",
   "metadata": {},
   "source": [
    "# SGD Classifier"
   ]
  },
  {
   "cell_type": "code",
   "execution_count": 43,
   "metadata": {},
   "outputs": [
    {
     "name": "stdout",
     "output_type": "stream",
     "text": [
      "SGD Accuracy - Training Set:  0.69\n",
      "----------------------------------\n",
      "Classification Report - SGD\n",
      "              precision    recall  f1-score   support\n",
      "\n",
      "           0       0.74      0.69      0.72      2120\n",
      "           1       0.64      0.69      0.66      1658\n",
      "\n",
      "    accuracy                           0.69      3778\n",
      "   macro avg       0.69      0.69      0.69      3778\n",
      "weighted avg       0.70      0.69      0.69      3778\n",
      "\n"
     ]
    }
   ],
   "source": [
    "from sklearn.linear_model import SGDClassifier\n",
    "model_SGD = SGDClassifier(class_weight='balanced')\n",
    "X_train, X_test, y_train, y_test = train_test_split(X, y, test_size=0.2, random_state=0)\n",
    "model_SGD.fit(X_train, y_train)\n",
    "y_test_hat_SGD = model_SGD.predict(X_test)\n",
    "acc_SGD = accuracy_score(y_test, y_test_hat_SGD)\n",
    "\n",
    "print(\"SGD Accuracy - Training Set: \", acc_SGD.round(2))\n",
    "print('----------------------------------')\n",
    "print(\"Classification Report - SGD\")\n",
    "print(classification_report(y_test, y_test_hat_SGD))\n",
    "\n",
    "#Logistic and SGD have similar accuracies"
   ]
  },
  {
   "cell_type": "markdown",
   "metadata": {},
   "source": [
    "# Random Forest"
   ]
  },
  {
   "cell_type": "code",
   "execution_count": 44,
   "metadata": {},
   "outputs": [
    {
     "name": "stdout",
     "output_type": "stream",
     "text": [
      "Accuracy Score out of sample = 68.23716251985176\n",
      "Accuracy Score in sample = 99.94704792163093\n",
      "\n",
      "              precision    recall  f1-score   support\n",
      "\n",
      "           0       0.70      0.75      0.73      2120\n",
      "           1       0.65      0.59      0.62      1658\n",
      "\n",
      "    accuracy                           0.68      3778\n",
      "   macro avg       0.68      0.67      0.67      3778\n",
      "weighted avg       0.68      0.68      0.68      3778\n",
      "\n"
     ]
    }
   ],
   "source": [
    "from sklearn.ensemble import RandomForestClassifier\n",
    "rf = RandomForestClassifier(n_estimators=100, random_state=0)\n",
    "rf.fit(X_train,y_train)\n",
    "#Prediction\n",
    "y_train_hat  = rf.predict(X_train)\n",
    "y_test_hat  = rf.predict(X_test)\n",
    "\n",
    "#evaluating random forest classifier\n",
    "rf_test_acc = accuracy_score(y_test,y_test_hat, normalize = True) * 100\n",
    "rf_train_acc = accuracy_score(y_train,y_train_hat, normalize = True) * 100\n",
    "print(f'Accuracy Score out of sample = {rf_test_acc}')\n",
    "print(f'Accuracy Score in sample = {rf_train_acc}')\n",
    "print('')\n",
    "print(classification_report(y_test, y_test_hat))"
   ]
  },
  {
   "cell_type": "markdown",
   "metadata": {},
   "source": [
    "# Neural network"
   ]
  },
  {
   "cell_type": "code",
   "execution_count": 45,
   "metadata": {},
   "outputs": [
    {
     "data": {
      "text/html": [
       "<style>#sk-container-id-1 {color: black;background-color: white;}#sk-container-id-1 pre{padding: 0;}#sk-container-id-1 div.sk-toggleable {background-color: white;}#sk-container-id-1 label.sk-toggleable__label {cursor: pointer;display: block;width: 100%;margin-bottom: 0;padding: 0.3em;box-sizing: border-box;text-align: center;}#sk-container-id-1 label.sk-toggleable__label-arrow:before {content: \"▸\";float: left;margin-right: 0.25em;color: #696969;}#sk-container-id-1 label.sk-toggleable__label-arrow:hover:before {color: black;}#sk-container-id-1 div.sk-estimator:hover label.sk-toggleable__label-arrow:before {color: black;}#sk-container-id-1 div.sk-toggleable__content {max-height: 0;max-width: 0;overflow: hidden;text-align: left;background-color: #f0f8ff;}#sk-container-id-1 div.sk-toggleable__content pre {margin: 0.2em;color: black;border-radius: 0.25em;background-color: #f0f8ff;}#sk-container-id-1 input.sk-toggleable__control:checked~div.sk-toggleable__content {max-height: 200px;max-width: 100%;overflow: auto;}#sk-container-id-1 input.sk-toggleable__control:checked~label.sk-toggleable__label-arrow:before {content: \"▾\";}#sk-container-id-1 div.sk-estimator input.sk-toggleable__control:checked~label.sk-toggleable__label {background-color: #d4ebff;}#sk-container-id-1 div.sk-label input.sk-toggleable__control:checked~label.sk-toggleable__label {background-color: #d4ebff;}#sk-container-id-1 input.sk-hidden--visually {border: 0;clip: rect(1px 1px 1px 1px);clip: rect(1px, 1px, 1px, 1px);height: 1px;margin: -1px;overflow: hidden;padding: 0;position: absolute;width: 1px;}#sk-container-id-1 div.sk-estimator {font-family: monospace;background-color: #f0f8ff;border: 1px dotted black;border-radius: 0.25em;box-sizing: border-box;margin-bottom: 0.5em;}#sk-container-id-1 div.sk-estimator:hover {background-color: #d4ebff;}#sk-container-id-1 div.sk-parallel-item::after {content: \"\";width: 100%;border-bottom: 1px solid gray;flex-grow: 1;}#sk-container-id-1 div.sk-label:hover label.sk-toggleable__label {background-color: #d4ebff;}#sk-container-id-1 div.sk-serial::before {content: \"\";position: absolute;border-left: 1px solid gray;box-sizing: border-box;top: 0;bottom: 0;left: 50%;z-index: 0;}#sk-container-id-1 div.sk-serial {display: flex;flex-direction: column;align-items: center;background-color: white;padding-right: 0.2em;padding-left: 0.2em;position: relative;}#sk-container-id-1 div.sk-item {position: relative;z-index: 1;}#sk-container-id-1 div.sk-parallel {display: flex;align-items: stretch;justify-content: center;background-color: white;position: relative;}#sk-container-id-1 div.sk-item::before, #sk-container-id-1 div.sk-parallel-item::before {content: \"\";position: absolute;border-left: 1px solid gray;box-sizing: border-box;top: 0;bottom: 0;left: 50%;z-index: -1;}#sk-container-id-1 div.sk-parallel-item {display: flex;flex-direction: column;z-index: 1;position: relative;background-color: white;}#sk-container-id-1 div.sk-parallel-item:first-child::after {align-self: flex-end;width: 50%;}#sk-container-id-1 div.sk-parallel-item:last-child::after {align-self: flex-start;width: 50%;}#sk-container-id-1 div.sk-parallel-item:only-child::after {width: 0;}#sk-container-id-1 div.sk-dashed-wrapped {border: 1px dashed gray;margin: 0 0.4em 0.5em 0.4em;box-sizing: border-box;padding-bottom: 0.4em;background-color: white;}#sk-container-id-1 div.sk-label label {font-family: monospace;font-weight: bold;display: inline-block;line-height: 1.2em;}#sk-container-id-1 div.sk-label-container {text-align: center;}#sk-container-id-1 div.sk-container {/* jupyter's `normalize.less` sets `[hidden] { display: none; }` but bootstrap.min.css set `[hidden] { display: none !important; }` so we also need the `!important` here to be able to override the default hidden behavior on the sphinx rendered scikit-learn.org. See: https://github.com/scikit-learn/scikit-learn/issues/21755 */display: inline-block !important;position: relative;}#sk-container-id-1 div.sk-text-repr-fallback {display: none;}</style><div id=\"sk-container-id-1\" class=\"sk-top-container\"><div class=\"sk-text-repr-fallback\"><pre>MLPClassifier(hidden_layer_sizes=[15, 10], max_iter=1000, random_state=0,\n",
       "              solver=&#x27;lbfgs&#x27;)</pre><b>In a Jupyter environment, please rerun this cell to show the HTML representation or trust the notebook. <br />On GitHub, the HTML representation is unable to render, please try loading this page with nbviewer.org.</b></div><div class=\"sk-container\" hidden><div class=\"sk-item\"><div class=\"sk-estimator sk-toggleable\"><input class=\"sk-toggleable__control sk-hidden--visually\" id=\"sk-estimator-id-1\" type=\"checkbox\" checked><label for=\"sk-estimator-id-1\" class=\"sk-toggleable__label sk-toggleable__label-arrow\">MLPClassifier</label><div class=\"sk-toggleable__content\"><pre>MLPClassifier(hidden_layer_sizes=[15, 10], max_iter=1000, random_state=0,\n",
       "              solver=&#x27;lbfgs&#x27;)</pre></div></div></div></div></div>"
      ],
      "text/plain": [
       "MLPClassifier(hidden_layer_sizes=[15, 10], max_iter=1000, random_state=0,\n",
       "              solver='lbfgs')"
      ]
     },
     "execution_count": 45,
     "metadata": {},
     "output_type": "execute_result"
    }
   ],
   "source": [
    "from sklearn.neural_network import MLPClassifier\n",
    "\n",
    "mlp = MLPClassifier(solver='lbfgs',max_iter=1000,random_state=0, hidden_layer_sizes=[15,10])\n",
    "mlp.fit(X_train,y_train)"
   ]
  },
  {
   "cell_type": "code",
   "execution_count": 46,
   "metadata": {},
   "outputs": [
    {
     "name": "stdout",
     "output_type": "stream",
     "text": [
      "Neural Network Accuracy - Training Set:  0.65\n",
      "----------------------------------\n",
      "Classification Report - Neural Network\n",
      "              precision    recall  f1-score   support\n",
      "\n",
      "           0       0.69      0.68      0.68      2120\n",
      "           1       0.60      0.60      0.60      1658\n",
      "\n",
      "    accuracy                           0.65      3778\n",
      "   macro avg       0.64      0.64      0.64      3778\n",
      "weighted avg       0.65      0.65      0.65      3778\n",
      "\n"
     ]
    }
   ],
   "source": [
    "y_test_hat_mlp = mlp.predict(X_test)\n",
    "acc_mlp = accuracy_score(y_test, y_test_hat_mlp)\n",
    "\n",
    "print(\"Neural Network Accuracy - Training Set: \", acc_mlp.round(2))\n",
    "print('----------------------------------')\n",
    "print(\"Classification Report - Neural Network\")\n",
    "print(classification_report(y_test, y_test_hat_mlp))"
   ]
  },
  {
   "cell_type": "markdown",
   "metadata": {},
   "source": [
    "# Confusion Matrix\n"
   ]
  },
  {
   "cell_type": "code",
   "execution_count": 47,
   "metadata": {},
   "outputs": [],
   "source": [
    "import matplotlib.pyplot as plt\n",
    "import seaborn as sns"
   ]
  },
  {
   "cell_type": "code",
   "execution_count": 48,
   "metadata": {},
   "outputs": [
    {
     "data": {
      "text/plain": [
       "Text(0.5, 1.0, 'Confusion Matrix')"
      ]
     },
     "execution_count": 48,
     "metadata": {},
     "output_type": "execute_result"
    },
    {
     "data": {
      "image/png": "[encoded data removed]",
      "text/plain": [
       "<Figure size 2160x720 with 2 Axes>"
      ]
     },
     "metadata": {
      "needs_background": "light"
     },
     "output_type": "display_data"
    }
   ],
   "source": [
    "cf_matrix = confusion_matrix(y_test, y_test_hat_mlp)\n",
    "fig, ax = plt.subplots(figsize=(30,10))\n",
    "sns.heatmap(cf_matrix, annot=True, ax=ax, fmt='g', annot_kws={'size': 18}, cmap=\"Blues\")\n",
    "ax.set_title('Confusion Matrix')"
   ]
  },
  {
   "cell_type": "markdown",
   "metadata": {},
   "source": [
    "# Testing the model"
   ]
  },
  {
   "cell_type": "code",
   "execution_count": 49,
   "metadata": {},
   "outputs": [
    {
     "name": "stdout",
     "output_type": "stream",
     "text": [
      "Multinomial Naive Bayes Accuracy Entire Training Set:  0.83\n",
      "----------------------------------\n",
      "Classification Report - Multinomial Naive Bayes\n",
      "              precision    recall  f1-score   support\n",
      "\n",
      "           0       0.79      0.94      0.86     10474\n",
      "           1       0.91      0.68      0.78      8412\n",
      "\n",
      "    accuracy                           0.83     18886\n",
      "   macro avg       0.85      0.81      0.82     18886\n",
      "weighted avg       0.84      0.83      0.82     18886\n",
      "\n"
     ]
    }
   ],
   "source": [
    "#Training entire data on Naive Bayes\n",
    "model_NB= MultinomialNB()\n",
    "model_NB.fit(X, y)\n",
    "y_test_hat_NB2 = model_NB.predict(X)\n",
    "acc_NB2 = accuracy_score(y, y_test_hat_NB2)\n",
    "print(\"Multinomial Naive Bayes Accuracy Entire Training Set: \", acc_NB2.round(2))\n",
    "print('----------------------------------')\n",
    "print(\"Classification Report - Multinomial Naive Bayes\")\n",
    "print(classification_report(y, y_test_hat_NB2))"
   ]
  },
  {
   "cell_type": "code",
   "execution_count": 50,
   "metadata": {},
   "outputs": [
    {
     "name": "stdout",
     "output_type": "stream",
     "text": [
      "Logistic Regression Accuracy Entire Training Set:  0.83\n",
      "----------------------------------\n",
      "Classification Report - Logistic Regression\n",
      "              precision    recall  f1-score   support\n",
      "\n",
      "           0       0.87      0.82      0.84     10474\n",
      "           1       0.79      0.85      0.82      8412\n",
      "\n",
      "    accuracy                           0.83     18886\n",
      "   macro avg       0.83      0.83      0.83     18886\n",
      "weighted avg       0.83      0.83      0.83     18886\n",
      "\n"
     ]
    }
   ],
   "source": [
    "#Trainng entire data on Logistic\n",
    "model_LG1 = LogisticRegression(max_iter=2500, class_weight='balanced')\n",
    "model_LG1.fit(X, y)\n",
    "y_test_hat_LG1 = model_LG1.predict(X)\n",
    "acc_LG1 = accuracy_score(y, y_test_hat_LG1)\n",
    "\n",
    "print(\"Logistic Regression Accuracy Entire Training Set: \", acc_LG1.round(2))\n",
    "print('----------------------------------')\n",
    "print(\"Classification Report - Logistic Regression\")\n",
    "print(classification_report(y, y_test_hat_LG1))"
   ]
  },
  {
   "cell_type": "code",
   "execution_count": 51,
   "metadata": {},
   "outputs": [
    {
     "data": {
      "text/html": [
       "<div>\n",
       "<style scoped>\n",
       "    .dataframe tbody tr th:only-of-type {\n",
       "        vertical-align: middle;\n",
       "    }\n",
       "\n",
       "    .dataframe tbody tr th {\n",
       "        vertical-align: top;\n",
       "    }\n",
       "\n",
       "    .dataframe thead th {\n",
       "        text-align: right;\n",
       "    }\n",
       "</style>\n",
       "<table border=\"1\" class=\"dataframe\">\n",
       "  <thead>\n",
       "    <tr style=\"text-align: right;\">\n",
       "      <th></th>\n",
       "      <th>movie_id</th>\n",
       "      <th>story</th>\n",
       "    </tr>\n",
       "  </thead>\n",
       "  <tbody>\n",
       "    <tr>\n",
       "      <th>0</th>\n",
       "      <td>122349</td>\n",
       "      <td>Growing up in the Mission district of San Fran...</td>\n",
       "    </tr>\n",
       "    <tr>\n",
       "      <th>1</th>\n",
       "      <td>122351</td>\n",
       "      <td>A soldier returns home from the Iraq war only ...</td>\n",
       "    </tr>\n",
       "    <tr>\n",
       "      <th>2</th>\n",
       "      <td>122361</td>\n",
       "      <td>Marco the Monkey works as a beach officer. But...</td>\n",
       "    </tr>\n",
       "    <tr>\n",
       "      <th>3</th>\n",
       "      <td>187901</td>\n",
       "      <td>When an honest cop, Vijay Kumar\\'s family is r...</td>\n",
       "    </tr>\n",
       "    <tr>\n",
       "      <th>4</th>\n",
       "      <td>187903</td>\n",
       "      <td>Kathiresan aka Kaththi, a criminal, escapes fr...</td>\n",
       "    </tr>\n",
       "  </tbody>\n",
       "</table>\n",
       "</div>"
      ],
      "text/plain": [
       "   movie_id                                              story\n",
       "0    122349  Growing up in the Mission district of San Fran...\n",
       "1    122351  A soldier returns home from the Iraq war only ...\n",
       "2    122361  Marco the Monkey works as a beach officer. But...\n",
       "3    187901  When an honest cop, Vijay Kumar\\'s family is r...\n",
       "4    187903  Kathiresan aka Kaththi, a criminal, escapes fr..."
      ]
     },
     "execution_count": 51,
     "metadata": {},
     "output_type": "execute_result"
    }
   ],
   "source": [
    "#importing and cleaning the evaluation set\n",
    "eval_data = pd.read_csv(\"movie_story_evaluation_file.csv\")\n",
    "eval_data.head()"
   ]
  },
  {
   "cell_type": "code",
   "execution_count": 52,
   "metadata": {},
   "outputs": [
    {
     "data": {
      "text/plain": [
       "(3498, 3)"
      ]
     },
     "execution_count": 52,
     "metadata": {},
     "output_type": "execute_result"
    }
   ],
   "source": [
    "# Merging both movie & movie_evaluation datasets into new set \n",
    "evaluation_dataset = pd.merge(eval_data, movies, left_on='movie_id',right_on='movieId',how='inner').drop(['title','movieId'], axis=1)\n",
    "evaluation_dataset.head()\n",
    "evaluation_dataset.shape"
   ]
  },
  {
   "cell_type": "code",
   "execution_count": 53,
   "metadata": {},
   "outputs": [
    {
     "data": {
      "text/plain": [
       "(3302, 3)"
      ]
     },
     "execution_count": 53,
     "metadata": {},
     "output_type": "execute_result"
    }
   ],
   "source": [
    "evaluation_dataset = evaluation_dataset[evaluation_dataset.genres != \"(no genres listed)\"]\n",
    "evaluation_dataset = evaluation_dataset.dropna()\n",
    "evaluation_dataset.shape"
   ]
  },
  {
   "cell_type": "code",
   "execution_count": 54,
   "metadata": {},
   "outputs": [],
   "source": [
    "clean_eval=[]\n",
    "for char in evaluation_dataset['story']:\n",
    "    char = char.lower()  #Convert to lowercase\n",
    "    char.rstrip()\n",
    "    char.lstrip()\n",
    "    char = re.sub(' s ',' ',char)  #remove extra characters \n",
    "    char = re.sub(' +', ' ',char) #remove extra space\n",
    "    char = re.sub(r'[^\\w] ',' ',char)  #remove symbols\n",
    "    char = re.sub(r'[^\\w\\s]',' ',char) #remove symbols\n",
    "    char = re.sub(r'\\\\x..',' ',char) #remove HTML tags\n",
    "    char = re.sub(\"[^a-zA-Z]\",\" \",char) \n",
    "    clean_eval.append(char)\n",
    "\n",
    "evaluation_dataset['story']=clean_eval"
   ]
  },
  {
   "cell_type": "code",
   "execution_count": 55,
   "metadata": {},
   "outputs": [
    {
     "data": {
      "text/plain": [
       "Drama                                  572\n",
       "Documentary                            417\n",
       "Comedy                                 309\n",
       "Comedy|Drama                           157\n",
       "Drama|Romance                           95\n",
       "                                      ... \n",
       "Adventure|Drama|Western                  1\n",
       "Comedy|Documentary|Drama                 1\n",
       "Animation|Children|Fantasy|Thriller      1\n",
       "Horror|Mystery|Romance                   1\n",
       "Action|Comedy|Crime|Horror               1\n",
       "Name: genres, Length: 388, dtype: int64"
      ]
     },
     "execution_count": 55,
     "metadata": {},
     "output_type": "execute_result"
    }
   ],
   "source": [
    "evaluation_dataset[\"genres\"].value_counts()"
   ]
  },
  {
   "cell_type": "code",
   "execution_count": 56,
   "metadata": {},
   "outputs": [
    {
     "data": {
      "text/html": [
       "<div>\n",
       "<style scoped>\n",
       "    .dataframe tbody tr th:only-of-type {\n",
       "        vertical-align: middle;\n",
       "    }\n",
       "\n",
       "    .dataframe tbody tr th {\n",
       "        vertical-align: top;\n",
       "    }\n",
       "\n",
       "    .dataframe thead th {\n",
       "        text-align: right;\n",
       "    }\n",
       "</style>\n",
       "<table border=\"1\" class=\"dataframe\">\n",
       "  <thead>\n",
       "    <tr style=\"text-align: right;\">\n",
       "      <th></th>\n",
       "      <th>movie_id</th>\n",
       "      <th>story</th>\n",
       "      <th>genres</th>\n",
       "      <th>DramaGenre</th>\n",
       "    </tr>\n",
       "  </thead>\n",
       "  <tbody>\n",
       "    <tr>\n",
       "      <th>0</th>\n",
       "      <td>122349</td>\n",
       "      <td>growing up in the mission district of san fran...</td>\n",
       "      <td>Drama</td>\n",
       "      <td>1</td>\n",
       "    </tr>\n",
       "    <tr>\n",
       "      <th>1</th>\n",
       "      <td>122351</td>\n",
       "      <td>a soldier returns home from the iraq war only ...</td>\n",
       "      <td>Horror|Thriller</td>\n",
       "      <td>0</td>\n",
       "    </tr>\n",
       "    <tr>\n",
       "      <th>2</th>\n",
       "      <td>122361</td>\n",
       "      <td>marco the monkey works as a beach officer but ...</td>\n",
       "      <td>Animation|Children|Comedy</td>\n",
       "      <td>0</td>\n",
       "    </tr>\n",
       "    <tr>\n",
       "      <th>3</th>\n",
       "      <td>187901</td>\n",
       "      <td>when an honest cop vijay kumar  s family is ru...</td>\n",
       "      <td>Action|Romance</td>\n",
       "      <td>0</td>\n",
       "    </tr>\n",
       "    <tr>\n",
       "      <th>4</th>\n",
       "      <td>187903</td>\n",
       "      <td>kathiresan aka kaththi a criminal escapes from...</td>\n",
       "      <td>Action|Drama|Romance</td>\n",
       "      <td>1</td>\n",
       "    </tr>\n",
       "  </tbody>\n",
       "</table>\n",
       "</div>"
      ],
      "text/plain": [
       "   movie_id                                              story  \\\n",
       "0    122349  growing up in the mission district of san fran...   \n",
       "1    122351  a soldier returns home from the iraq war only ...   \n",
       "2    122361  marco the monkey works as a beach officer but ...   \n",
       "3    187901  when an honest cop vijay kumar  s family is ru...   \n",
       "4    187903  kathiresan aka kaththi a criminal escapes from...   \n",
       "\n",
       "                      genres  DramaGenre  \n",
       "0                      Drama           1  \n",
       "1            Horror|Thriller           0  \n",
       "2  Animation|Children|Comedy           0  \n",
       "3             Action|Romance           0  \n",
       "4       Action|Drama|Romance           1  "
      ]
     },
     "execution_count": 56,
     "metadata": {},
     "output_type": "execute_result"
    }
   ],
   "source": [
    "#Convert movies with \"Drama\" genre to binary format\n",
    "#Add a new column - Drama Genre to identify movies with Drama genre\n",
    "evaluation_dataset[\"DramaGenre\"] = np.where(evaluation_dataset[\"genres\"].str.contains(\"Drama\"), 1, 0)\n",
    "evaluation_dataset.head()"
   ]
  },
  {
   "cell_type": "code",
   "execution_count": 57,
   "metadata": {},
   "outputs": [
    {
     "data": {
      "text/html": [
       "<div>\n",
       "<style scoped>\n",
       "    .dataframe tbody tr th:only-of-type {\n",
       "        vertical-align: middle;\n",
       "    }\n",
       "\n",
       "    .dataframe tbody tr th {\n",
       "        vertical-align: top;\n",
       "    }\n",
       "\n",
       "    .dataframe thead th {\n",
       "        text-align: right;\n",
       "    }\n",
       "</style>\n",
       "<table border=\"1\" class=\"dataframe\">\n",
       "  <thead>\n",
       "    <tr style=\"text-align: right;\">\n",
       "      <th></th>\n",
       "      <th>movie_id</th>\n",
       "      <th>story</th>\n",
       "      <th>DramaGenre</th>\n",
       "    </tr>\n",
       "  </thead>\n",
       "  <tbody>\n",
       "    <tr>\n",
       "      <th>0</th>\n",
       "      <td>122349</td>\n",
       "      <td>growing up in the mission district of san fran...</td>\n",
       "      <td>1</td>\n",
       "    </tr>\n",
       "    <tr>\n",
       "      <th>1</th>\n",
       "      <td>122351</td>\n",
       "      <td>a soldier returns home from the iraq war only ...</td>\n",
       "      <td>0</td>\n",
       "    </tr>\n",
       "    <tr>\n",
       "      <th>2</th>\n",
       "      <td>122361</td>\n",
       "      <td>marco the monkey works as a beach officer but ...</td>\n",
       "      <td>0</td>\n",
       "    </tr>\n",
       "    <tr>\n",
       "      <th>3</th>\n",
       "      <td>187901</td>\n",
       "      <td>when an honest cop vijay kumar  s family is ru...</td>\n",
       "      <td>0</td>\n",
       "    </tr>\n",
       "    <tr>\n",
       "      <th>4</th>\n",
       "      <td>187903</td>\n",
       "      <td>kathiresan aka kaththi a criminal escapes from...</td>\n",
       "      <td>1</td>\n",
       "    </tr>\n",
       "  </tbody>\n",
       "</table>\n",
       "</div>"
      ],
      "text/plain": [
       "   movie_id                                              story  DramaGenre\n",
       "0    122349  growing up in the mission district of san fran...           1\n",
       "1    122351  a soldier returns home from the iraq war only ...           0\n",
       "2    122361  marco the monkey works as a beach officer but ...           0\n",
       "3    187901  when an honest cop vijay kumar  s family is ru...           0\n",
       "4    187903  kathiresan aka kaththi a criminal escapes from...           1"
      ]
     },
     "execution_count": 57,
     "metadata": {},
     "output_type": "execute_result"
    }
   ],
   "source": [
    "evaluation_dataset = evaluation_dataset.drop('genres', axis=1)\n",
    "evaluation_dataset.head()"
   ]
  },
  {
   "cell_type": "code",
   "execution_count": 58,
   "metadata": {},
   "outputs": [
    {
     "data": {
      "text/plain": [
       "0    1879\n",
       "1    1423\n",
       "Name: DramaGenre, dtype: int64"
      ]
     },
     "execution_count": 58,
     "metadata": {},
     "output_type": "execute_result"
    }
   ],
   "source": [
    "evaluation_dataset.DramaGenre.value_counts()"
   ]
  },
  {
   "cell_type": "markdown",
   "metadata": {},
   "source": [
    "# Text Analysis on evaluation_dataset"
   ]
  },
  {
   "cell_type": "code",
   "execution_count": 59,
   "metadata": {},
   "outputs": [
    {
     "data": {
      "text/plain": [
       "{0, 1}"
      ]
     },
     "execution_count": 59,
     "metadata": {},
     "output_type": "execute_result"
    }
   ],
   "source": [
    "lemmatizer = WordNetLemmatizer()\n",
    "def lemmatize_words(text):\n",
    "    words = text.split()\n",
    "    words = [lemmatizer.lemmatize(word,pos='v') for word in words]\n",
    "    return ' '.join(words)\n",
    "evaluation_dataset['story'] = evaluation_dataset['story'].apply(lemmatize_words)\n",
    "\n",
    "text, y = evaluation_dataset.story, evaluation_dataset.DramaGenre\n",
    "\n",
    "set(y)"
   ]
  },
  {
   "cell_type": "code",
   "execution_count": 60,
   "metadata": {},
   "outputs": [
    {
     "data": {
      "text/plain": [
       "0    1879\n",
       "1    1423\n",
       "Name: DramaGenre, dtype: int64"
      ]
     },
     "execution_count": 60,
     "metadata": {},
     "output_type": "execute_result"
    }
   ],
   "source": [
    "evaluation_dataset['DramaGenre'].value_counts()"
   ]
  },
  {
   "cell_type": "code",
   "execution_count": 61,
   "metadata": {},
   "outputs": [
    {
     "name": "stdout",
     "output_type": "stream",
     "text": [
      "The number of features are: 174401\n"
     ]
    }
   ],
   "source": [
    "vect = CountVectorizer(ngram_range=(1,3),stop_words=\"english\").fit(text) \n",
    "\n",
    "# Defining X & y variables from evaluation_dataset\n",
    "new_X = vect.fit_transform(text)\n",
    "new_Y = evaluation_dataset.DramaGenre\n",
    "\n",
    "print(\"The number of features are: {}\".format(len(vect.get_feature_names_out())))"
   ]
  },
  {
   "cell_type": "code",
   "execution_count": 62,
   "metadata": {},
   "outputs": [],
   "source": [
    "#Check with Mutinomial Naive Bayes\n",
    "model_NB_1= MultinomialNB()\n",
    "model_NB_1.fit(new_X, y)\n",
    "y_test_hat_NB3 = model_NB_1.predict(new_X)\n"
   ]
  },
  {
   "cell_type": "code",
   "execution_count": 63,
   "metadata": {},
   "outputs": [
    {
     "name": "stdout",
     "output_type": "stream",
     "text": [
      "Multinomial Naive Bayes Accuracy Evaluation Set:  1.0\n",
      "----------------------------------\n",
      "Classification Report - Multinomial Naive Bayes\n",
      "              precision    recall  f1-score   support\n",
      "\n",
      "           0       1.00      1.00      1.00      1879\n",
      "           1       1.00      1.00      1.00      1423\n",
      "\n",
      "    accuracy                           1.00      3302\n",
      "   macro avg       1.00      1.00      1.00      3302\n",
      "weighted avg       1.00      1.00      1.00      3302\n",
      "\n"
     ]
    }
   ],
   "source": [
    "#accuracy metrics for Naive Bayes\n",
    "acc_NB3 = accuracy_score(new_Y, y_test_hat_NB3)\n",
    "print(\"Multinomial Naive Bayes Accuracy Evaluation Set: \", acc_NB3.round(2))\n",
    "print('----------------------------------')\n",
    "print(\"Classification Report - Multinomial Naive Bayes\")\n",
    "print(classification_report(new_Y, y_test_hat_NB3))"
   ]
  },
  {
   "cell_type": "code",
   "execution_count": 64,
   "metadata": {},
   "outputs": [],
   "source": [
    "#Check with Logistic Regression on evaluation_dataset\n",
    "model_LG_1= LogisticRegression(max_iter=2500, class_weight='balanced')\n",
    "model_LG_1.fit(new_X, y)\n",
    "y_test_hat_LG3 = model_LG_1.predict(new_X)"
   ]
  },
  {
   "cell_type": "code",
   "execution_count": 65,
   "metadata": {},
   "outputs": [
    {
     "name": "stdout",
     "output_type": "stream",
     "text": [
      "Logistic Regression Accuracy Evaluation Set:  1.0\n",
      "----------------------------------\n",
      "Classification Report - Logistic Regression\n",
      "              precision    recall  f1-score   support\n",
      "\n",
      "           0       1.00      1.00      1.00      1879\n",
      "           1       1.00      1.00      1.00      1423\n",
      "\n",
      "    accuracy                           1.00      3302\n",
      "   macro avg       1.00      1.00      1.00      3302\n",
      "weighted avg       1.00      1.00      1.00      3302\n",
      "\n"
     ]
    }
   ],
   "source": [
    "#accuracy metrics for logistic\n",
    "acc_LG3 = accuracy_score(new_Y, y_test_hat_LG3)\n",
    "\n",
    "print(\"Logistic Regression Accuracy Evaluation Set: \", acc_LG3.round(2))\n",
    "print('----------------------------------')\n",
    "print(\"Classification Report - Logistic Regression\")\n",
    "print(classification_report(new_Y, y_test_hat_LG3))"
   ]
  },
  {
   "cell_type": "code",
   "execution_count": null,
   "metadata": {},
   "outputs": [],
   "source": []
  }
 ],
 "metadata": {
  "kernelspec": {
   "display_name": "Python 3 (ipykernel)",
   "language": "python",
   "name": "python3"
  },
  "language_info": {
   "codemirror_mode": {
    "name": "ipython",
    "version": 3
   },
   "file_extension": ".py",
   "mimetype": "text/x-python",
   "name": "python",
   "nbconvert_exporter": "python",
   "pygments_lexer": "ipython3",
   "version": "3.9.7"
  }
 },
 "nbformat": 4,
 "nbformat_minor": 4
}
